{
 "cells": [
  {
   "attachments": {},
   "cell_type": "markdown",
   "metadata": {},
   "source": [
    "# <span style=\"color:darkblue\"> Lecture 3: Mathematical Operations and Random Numbers </span>"
   ]
  },
  {
   "attachments": {},
   "cell_type": "markdown",
   "metadata": {},
   "source": [
    "<font size=\"5\"> \n",
    "\n",
    "In the previous class we:\n",
    "- Introduced lists and variable types\n",
    "- Talked about how to extract elements from a list"
   ]
  },
  {
   "attachments": {},
   "cell_type": "markdown",
   "metadata": {},
   "source": [
    "<font size=\"5\"> \n",
    "\n",
    "In this class we will:\n",
    "\n",
    "- Introduce a library for general mathematical operations\n",
    "- Generate random numbers\n",
    "- (Optional) Matrix operations"
   ]
  },
  {
   "attachments": {},
   "cell_type": "markdown",
   "metadata": {},
   "source": [
    "## <span style=\"color:darkblue\"> I. Import Libraries </span>"
   ]
  },
  {
   "cell_type": "code",
   "execution_count": 2,
   "metadata": {},
   "outputs": [],
   "source": [
    "# the \"numPy\" library is used for mathematical operations\n",
    "# the \"matplotlib\" library is for generating graphs\n",
    "\n",
    "import numpy as np\n",
    "import matplotlib.pyplot as plt\n"
   ]
  },
  {
   "attachments": {},
   "cell_type": "markdown",
   "metadata": {},
   "source": [
    "##  <span style=\"color:darkblue\"> II. Numbers and Functions </span>"
   ]
  },
  {
   "attachments": {},
   "cell_type": "markdown",
   "metadata": {},
   "source": [
    "<font size = \"5\" >\n",
    "Examples of numPy numbers"
   ]
  },
  {
   "cell_type": "code",
   "execution_count": 3,
   "metadata": {},
   "outputs": [
    {
     "data": {
      "text/plain": [
       "3.141592653589793"
      ]
     },
     "execution_count": 3,
     "metadata": {},
     "output_type": "execute_result"
    }
   ],
   "source": [
    "# Computes \"pi\" (3.14...)\n",
    "# '.' is the operation that calls upon the package\n",
    "\n",
    "np.pi"
   ]
  },
  {
   "attachments": {},
   "cell_type": "markdown",
   "metadata": {},
   "source": [
    "<font size = \"5\" >\n",
    "\n",
    "Examples of numPy functions\n",
    "\n",
    "$ ln(x), e^x, sin(x), cos(x), \\sqrt{x}$"
   ]
  },
  {
   "cell_type": "code",
   "execution_count": 4,
   "metadata": {},
   "outputs": [
    {
     "name": "stdout",
     "output_type": "stream",
     "text": [
      "0.0\n",
      "2.718281828459045\n",
      "0.8414709848078965\n",
      "0.5403023058681398\n",
      "1.0\n"
     ]
    }
   ],
   "source": [
    "# log(x) computes the logarithm with base \"e\" (Euler constant)\n",
    "# exp(x) compute the Euler constant raised to the power of \"x\"\n",
    "# sing(x) computes the sine of x\n",
    "# cos(x) computes the cosine of x\n",
    "# In this example, we're substituting x = 1\n",
    "\n",
    "print(np.log(1))\n",
    "print(np.exp(1))\n",
    "print(np.sin(1))\n",
    "print(np.cos(1))\n",
    "print(np.sqrt(1))"
   ]
  },
  {
   "attachments": {},
   "cell_type": "markdown",
   "metadata": {},
   "source": [
    "<font size = \"5\">\n",
    "\n",
    "Try it yourself!\n",
    "\n",
    "- Create a new variable, $x = 5$\n",
    "- Compute $\\pi x^2$\n",
    "- Compute $ \\frac{1}{\\sqrt{2\\pi}}e^{-x^2} $"
   ]
  },
  {
   "cell_type": "code",
   "execution_count": 5,
   "metadata": {},
   "outputs": [
    {
     "name": "stdout",
     "output_type": "stream",
     "text": [
      "78.53981633974483\n",
      "5.540487995575833e-12\n"
     ]
    }
   ],
   "source": [
    "# Write your own code\n",
    "\n",
    "x = 5\n",
    "print(np.pi * (x**2))\n",
    "print(1 / (np.sqrt(2*np.pi)) * np.exp(-x**2))\n"
   ]
  },
  {
   "attachments": {},
   "cell_type": "markdown",
   "metadata": {},
   "source": [
    "##  <span style=\"color:darkblue\"> III. Vector Arrays </span>"
   ]
  },
  {
   "attachments": {},
   "cell_type": "markdown",
   "metadata": {},
   "source": [
    "<font size = \"5\">\n",
    "Create an array from a list\n",
    "\n",
    "$ \\text{ }$\n",
    "$ a = \\begin{pmatrix} 1 \\\\ 2 \\\\ 3 \\end{pmatrix}\n",
    "\\qquad b = \\begin{pmatrix} 0 \\\\ 1 \\\\ 0\\end{pmatrix}\n",
    "\\qquad c = \\begin{pmatrix} 10 \\\\ 100 \\\\ 1000 \\\\ 2000 \\\\ 5000 \\end{pmatrix} \n",
    "\\qquad d = \\begin{pmatrix} 4 \\\\ 2 \\end{pmatrix} $"
   ]
  },
  {
   "cell_type": "code",
   "execution_count": 6,
   "metadata": {},
   "outputs": [],
   "source": [
    "# You create an array by converting a list [1,2,3] to a numeric object\n",
    "# \"array\" is a subfunction of the library numPy.\n",
    "\n",
    "vec_a  = np.array([1,2,3])\n",
    "vec_b  = np.array([0,1,0])\n",
    "vec_c  = np.array([10,100,1000,2000,5000])\n",
    "vec_d  = np.array([4,2])"
   ]
  },
  {
   "attachments": {},
   "cell_type": "markdown",
   "metadata": {},
   "source": [
    "<font size = \"5\">\n",
    "\n",
    "Accessing an element of an array"
   ]
  },
  {
   "cell_type": "code",
   "execution_count": 7,
   "metadata": {},
   "outputs": [
    {
     "name": "stdout",
     "output_type": "stream",
     "text": [
      "1\n",
      "3\n",
      "[4 2]\n"
     ]
    }
   ],
   "source": [
    "# Arrays, like lists, start their numbering at zero.\n",
    "# You also access them with square brackets\n",
    "\n",
    "print(vec_a[0])\n",
    "print(vec_a[2])\n",
    "print(vec_d)\n"
   ]
  },
  {
   "attachments": {},
   "cell_type": "markdown",
   "metadata": {},
   "source": [
    "<font size = \"5\">\n",
    "Operations with a single array and a scalar"
   ]
  },
  {
   "attachments": {},
   "cell_type": "markdown",
   "metadata": {},
   "source": [
    "<font size = \"5\">\n",
    "\n",
    "$ a + 2 = \\begin{pmatrix} a_1 + 2 \\\\ a_2 + 2 \\\\ a_3 + 2 \\end{pmatrix}$"
   ]
  },
  {
   "cell_type": "code",
   "execution_count": 8,
   "metadata": {},
   "outputs": [
    {
     "name": "stdout",
     "output_type": "stream",
     "text": [
      "[2 4 6]\n",
      "[0.5 1.  1.5]\n",
      "[3 4 5]\n",
      "[1 4 9]\n"
     ]
    }
   ],
   "source": [
    "# A scalar refers to either an int or float\n",
    "# We can do many common operations with \n",
    "\n",
    "print(vec_a * 2)\n",
    "print(vec_a / 2)\n",
    "print(vec_a + 2)\n",
    "print(vec_a ** 2)"
   ]
  },
  {
   "attachments": {},
   "cell_type": "markdown",
   "metadata": {},
   "source": [
    "<font size = \"5\">\n",
    "Element-by-element addition between two arrays of the same size\n",
    "\n",
    "$\\text{ }$\n",
    "\n",
    "$ a + b = \\begin{pmatrix} a_1 \\\\ a_2 \\\\ a_3 \\end{pmatrix} +\n",
    "          \\begin{pmatrix} b_1 \\\\ b_2 \\\\ b_3 \\end{pmatrix} =\n",
    "          \\begin{pmatrix} a_1 + b_1 \\\\ a_2 + b_2 \\\\ a_3 + b_3 \\end{pmatrix}$"
   ]
  },
  {
   "cell_type": "code",
   "execution_count": 9,
   "metadata": {},
   "outputs": [
    {
     "name": "stdout",
     "output_type": "stream",
     "text": [
      "[1 2 3]\n",
      "[0 1 0]\n"
     ]
    }
   ],
   "source": [
    "print(vec_a)\n",
    "print(vec_b)"
   ]
  },
  {
   "cell_type": "code",
   "execution_count": 10,
   "metadata": {},
   "outputs": [
    {
     "name": "stdout",
     "output_type": "stream",
     "text": [
      "[1 3 3]\n"
     ]
    }
   ],
   "source": [
    "# When you add two arrays of the same size,\n",
    "# Python adds the individual elements in each position\n",
    "\n",
    "print(vec_a + vec_b)\n"
   ]
  },
  {
   "attachments": {},
   "cell_type": "markdown",
   "metadata": {},
   "source": [
    "<font size =\"5\">\n",
    "\n",
    "The default multiplication option is element-by element:\n",
    "\n",
    "$ a * b = \\begin{pmatrix} a_1 * b_1 \\\\ a_2 * b_2 \\\\ a_3 * b_3 \\end{pmatrix}$"
   ]
  },
  {
   "cell_type": "code",
   "execution_count": 11,
   "metadata": {},
   "outputs": [
    {
     "name": "stdout",
     "output_type": "stream",
     "text": [
      "[0 2 0]\n",
      "[1 1 3]\n",
      "[inf  2. inf]\n"
     ]
    },
    {
     "name": "stderr",
     "output_type": "stream",
     "text": [
      "/var/folders/pk/mzw8tvm17wq9hf_667d874nr0000gn/T/ipykernel_22268/3839639845.py:6: RuntimeWarning: divide by zero encountered in divide\n",
      "  print(vec_a / vec_b)\n"
     ]
    }
   ],
   "source": [
    "# We can do other similar element-by-element operations\n",
    "# such as multiplication, subtraction, and division.\n",
    "\n",
    "print(vec_a * vec_b)\n",
    "print(vec_a - vec_b)\n",
    "print(vec_a / vec_b)\n"
   ]
  },
  {
   "attachments": {},
   "cell_type": "markdown",
   "metadata": {},
   "source": [
    "<font size = \"5\">\n",
    "Summary statistics of an array"
   ]
  },
  {
   "cell_type": "code",
   "execution_count": 12,
   "metadata": {},
   "outputs": [
    {
     "name": "stdout",
     "output_type": "stream",
     "text": [
      "2.0\n",
      "0.816496580927726\n",
      "1\n",
      "2.0\n",
      "3\n"
     ]
    }
   ],
   "source": [
    "# The function np.mean() computes the mean of an array\n",
    "# We can do similar operations for the standard deviation (std),\n",
    "# the minimum (min), the median (median), and the maximum (max).\n",
    "\n",
    "print(np.mean(vec_a))\n",
    "print(np.std(vec_a))\n",
    "print(np.min(vec_a))\n",
    "print(np.median(vec_a))\n",
    "print(np.max(vec_a))"
   ]
  },
  {
   "attachments": {},
   "cell_type": "markdown",
   "metadata": {},
   "source": [
    "<font size = \"5\">\n",
    "\n",
    "Try it yourself! Compute the mean of\n",
    "\n",
    "\n",
    "$ e = \\begin{pmatrix} 10 \\\\ 8 \\\\ 15 \\\\ 0 \\\\ 24 \\end{pmatrix} $"
   ]
  },
  {
   "cell_type": "code",
   "execution_count": 13,
   "metadata": {},
   "outputs": [
    {
     "name": "stdout",
     "output_type": "stream",
     "text": [
      "11.4\n",
      "7.939773296511683\n",
      "0\n",
      "10.0\n",
      "24\n"
     ]
    }
   ],
   "source": [
    "# Create your own array and compute any of the above summary statistics\n",
    "\n",
    "vec_e = np.array([10,8,15,0,24])\n",
    "\n",
    "print(np.mean(vec_e))\n",
    "print(np.std(vec_e))\n",
    "print(np.min(vec_e))\n",
    "print(np.median(vec_e))\n",
    "print(np.max(vec_e))"
   ]
  },
  {
   "attachments": {},
   "cell_type": "markdown",
   "metadata": {},
   "source": [
    "<font size = \"5\">\n",
    "<span style=\"color:red\"> Common Pitfall </span>: Make sure that the arrays have the same size"
   ]
  },
  {
   "cell_type": "code",
   "execution_count": 14,
   "metadata": {},
   "outputs": [
    {
     "name": "stdout",
     "output_type": "stream",
     "text": [
      "[1 2 3]\n",
      "[  10  100 1000 2000 5000]\n"
     ]
    }
   ],
   "source": [
    "print(vec_a)\n",
    "print(vec_c)"
   ]
  },
  {
   "cell_type": "code",
   "execution_count": 15,
   "metadata": {},
   "outputs": [
    {
     "data": {
      "text/plain": [
       "(3,)"
      ]
     },
     "execution_count": 15,
     "metadata": {},
     "output_type": "execute_result"
    }
   ],
   "source": [
    "vec_a.shape"
   ]
  },
  {
   "cell_type": "code",
   "execution_count": 16,
   "metadata": {},
   "outputs": [
    {
     "ename": "ValueError",
     "evalue": "operands could not be broadcast together with shapes (3,) (5,) ",
     "output_type": "error",
     "traceback": [
      "\u001b[0;31m---------------------------------------------------------------------------\u001b[0m",
      "\u001b[0;31mValueError\u001b[0m                                Traceback (most recent call last)",
      "Cell \u001b[0;32mIn[16], line 3\u001b[0m\n\u001b[1;32m      1\u001b[0m \u001b[38;5;66;03m# Here I try to combine two arrays of different size.\u001b[39;00m\n\u001b[0;32m----> 3\u001b[0m vec_a \u001b[38;5;241m+\u001b[39m vec_c\n",
      "\u001b[0;31mValueError\u001b[0m: operands could not be broadcast together with shapes (3,) (5,) "
     ]
    }
   ],
   "source": [
    "# Here I try to combine two arrays of different size.\n",
    "\n",
    "vec_a + vec_c"
   ]
  },
  {
   "attachments": {},
   "cell_type": "markdown",
   "metadata": {},
   "source": [
    "##  <span style=\"color:darkblue\"> IV. Random Numbers </span>\n",
    "\n",
    "<font size = \"5\">\n",
    "\n",
    "Why randomness?\n",
    "\n",
    "- Simulate different scenarios: high risk or low risk\n",
    "- Study properties of a complex system and/or estimator\n",
    "- In medicine, randomly assign subjects to treatment or control"
   ]
  },
  {
   "attachments": {},
   "cell_type": "markdown",
   "metadata": {},
   "source": [
    "<font size = \"5\">\n",
    "\n",
    "Create a vector of random variables"
   ]
  },
  {
   "cell_type": "code",
   "execution_count": null,
   "metadata": {},
   "outputs": [
    {
     "name": "stdout",
     "output_type": "stream",
     "text": [
      "[-0.32247258  0.20092154  1.05057686  0.1614324  -1.2200665  -2.0209885\n",
      "  0.07654998 -2.06237959  0.25990118 -0.89342978]\n"
     ]
    }
   ],
   "source": [
    "# This code creates a vector of random variables \n",
    "# generated from a normal distribution with\n",
    "# mean \"loc\" (location) and standard deviation \"scale\"\n",
    "# the number of distinct variabels is \"size\"\n",
    "\n",
    "randomvar_a = np.random.normal(loc=0, scale=1, size=10)\n",
    "print(randomvar_a)"
   ]
  },
  {
   "attachments": {},
   "cell_type": "markdown",
   "metadata": {},
   "source": [
    "<font size = \"5\">\n",
    "\n",
    "Random numbers differ every time!\n",
    "\n",
    "- Avoid this problem by drawing from a \"pregenerated\" set.\n",
    "- This is called a seed"
   ]
  },
  {
   "cell_type": "code",
   "execution_count": null,
   "metadata": {},
   "outputs": [],
   "source": [
    "# Your computer will typically generate different numbers every time you run a command\n",
    "# However, sometimes you want to be able to replicate the results\n",
    "# You can choose any other number instead of \"12345\". This will produce another set\n",
    "# of random numbers, but they will give the same answers\n",
    "\n",
    "np.random.seed(10393)\n",
    "\n",
    "random_var_b = np.random.normal(loc=0, scale=1, size=10)\n",
    "print(random_var_b)"
   ]
  },
  {
   "attachments": {},
   "cell_type": "markdown",
   "metadata": {},
   "source": [
    "<font size = \"5\">\n",
    "\n",
    "Compute a histogram with the results"
   ]
  },
  {
   "cell_type": "code",
   "execution_count": null,
   "metadata": {},
   "outputs": [
    {
     "data": {
      "text/plain": [
       "Text(0, 0.5, 'Frequency')"
      ]
     },
     "execution_count": 28,
     "metadata": {},
     "output_type": "execute_result"
    },
    {
     "data": {
      "image/png": "[encoded data removed]",
      "text/plain": [
       "<Figure size 640x480 with 1 Axes>"
      ]
     },
     "metadata": {},
     "output_type": "display_data"
    }
   ],
   "source": [
    "# Compute a histogram\n",
    "# You can edit the number of bins with plt.hist(x = randomvar_a)\n",
    "\n",
    "randomvar_x = np.random.normal(loc=0, scale=1, size=1000)\n",
    "\n",
    "plt.hist(x = randomvar_x)\n",
    "plt.xlabel(\"Variable a\")\n",
    "plt.ylabel(\"Frequency\")"
   ]
  },
  {
   "attachments": {},
   "cell_type": "markdown",
   "metadata": {},
   "source": [
    "<font size = \"5\">\n",
    "\n",
    "Try this again with $size = 100, 1000, 10000$"
   ]
  },
  {
   "cell_type": "code",
   "execution_count": 17,
   "metadata": {},
   "outputs": [
    {
     "data": {
      "text/plain": [
       "Text(0, 0.5, 'Frequency')"
      ]
     },
     "execution_count": 17,
     "metadata": {},
     "output_type": "execute_result"
    },
    {
     "data": {
      "image/png": "[encoded data removed]",
      "text/plain": [
       "<Figure size 640x480 with 1 Axes>"
      ]
     },
     "metadata": {},
     "output_type": "display_data"
    }
   ],
   "source": [
    "# Write the code for your histogram\n",
    "\n",
    "randomvar_x = np.random.normal(loc=0, scale=1, size=10000)\n",
    "\n",
    "plt.hist(x = randomvar_x)\n",
    "plt.xlabel(\"Variable a\")\n",
    "plt.ylabel(\"Frequency\")\n"
   ]
  },
  {
   "attachments": {},
   "cell_type": "markdown",
   "metadata": {},
   "source": [
    "# <span style=\"color:darkblue\"> Additional Resources </span>\n",
    "\n",
    "<font size=\"5\"> \n",
    "\n",
    "Check out additional examples at:\n",
    "\n",
    "- https://allendowney.github.io/ElementsOfDataScience/03_arrays.html\n",
    "\n",
    "\n"
   ]
  },
  {
   "attachments": {},
   "cell_type": "markdown",
   "metadata": {},
   "source": [
    "# <span style=\"color:darkblue\"> (Optional) Matrix Operations </span>\n",
    "\n",
    "<font size=\"5\"> \n"
   ]
  },
  {
   "attachments": {},
   "cell_type": "markdown",
   "metadata": {},
   "source": [
    "<font size = \"5\">\n",
    "Creating a matrix by stacking different rows\n",
    "\n",
    "$ \\text{ }$\n",
    "\n",
    "$ X = \\begin{pmatrix} 1 & 2 & 3 \\\\ \n",
    "                       0 & 4 & 5 \\\\\n",
    "                       0 & 0 & 6\n",
    "                       \\end{pmatrix} $"
   ]
  },
  {
   "cell_type": "code",
   "execution_count": null,
   "metadata": {},
   "outputs": [],
   "source": [
    "# Matrices are usually denoted by capital letters\n",
    "# The object [[1,2,3],[4,5,6],[7,8,9]] is a list of lists\n",
    "# It's useful to maintain this notation in the code as well\n",
    "\n",
    "X = np.array([[1,2,3],[0,4,5],[0,0,6]])\n",
    "print(X)"
   ]
  },
  {
   "attachments": {},
   "cell_type": "markdown",
   "metadata": {},
   "source": [
    "<font size = \"5\">\n",
    "Creating a matrix by stacking different columns\n",
    "\n",
    "$ \\text{ } $\n",
    "\n",
    "$ Y = \\begin{pmatrix} 1 & 2 \\\\ 0 & 1 \\\\ 1 & 0 \\end{pmatrix}$"
   ]
  },
  {
   "cell_type": "code",
   "execution_count": null,
   "metadata": {},
   "outputs": [],
   "source": [
    "# You can also stack columns\n",
    "Y =  np.column_stack([[1,0,1],[2,1,0]])\n",
    "print(Y)"
   ]
  },
  {
   "attachments": {},
   "cell_type": "markdown",
   "metadata": {},
   "source": [
    "<font size = \"5\">\n",
    "Transpose\n",
    "\n",
    "$ \\text{ }$\n",
    "\n",
    "$ Y' = \\begin{pmatrix}  1 & 0 & 1 \\\\ 2 & 1 & 0  \\end{pmatrix} $"
   ]
  },
  {
   "cell_type": "code",
   "execution_count": null,
   "metadata": {},
   "outputs": [],
   "source": [
    "# Matrix Transpose\n",
    "np.matrix.transpose(Y)"
   ]
  },
  {
   "attachments": {},
   "cell_type": "markdown",
   "metadata": {},
   "source": [
    "<font size = \"5\">\n",
    "\n",
    "Matrix multiplication\n",
    "\n",
    "$ XY = \\begin{pmatrix} 1 & 2 & 3 \\\\ \n",
    "                       0 & 4 & 5 \\\\\n",
    "                       0 & 0 & 6\n",
    "                       \\end{pmatrix}\n",
    "                       \\begin{pmatrix} 1 & 2 \\\\ 0 & 1 \\\\ 1 & 0 \\end{pmatrix} = \n",
    "        \\begin{pmatrix} 4 & 4 \\\\ 5 & 4 \\\\ 6 & 0 \\end{pmatrix} $"
   ]
  },
  {
   "cell_type": "code",
   "execution_count": null,
   "metadata": {},
   "outputs": [],
   "source": [
    "# Matrix Multiplication\n",
    "\n",
    "np.dot(X,Y)\n",
    "\n",
    "np.matmul(X,Y)"
   ]
  },
  {
   "attachments": {},
   "cell_type": "markdown",
   "metadata": {},
   "source": [
    "<font size = \"5\">\n",
    "\n",
    "Matrix inverse\n",
    "\n",
    "$ X^{-1} = \\begin{pmatrix} 1 & 2 & 3 \\\\ \n",
    "                       0 & 4 & 5 \\\\\n",
    "                       0 & 0 & 6\n",
    "                       \\end{pmatrix}^{-1} $"
   ]
  },
  {
   "cell_type": "code",
   "execution_count": null,
   "metadata": {},
   "outputs": [],
   "source": [
    "# Check the determinant of a matrix (a matrix is invertible if the determinant is not zero)\n",
    "print(np.linalg.det(X))\n",
    "\n",
    "# Matrix inverse\n",
    "# The following command stands for linear algebrar inverse.\n",
    "X_inv = np.linalg.inv(X)\n",
    "\n",
    "# Output the result\n",
    "print(X_inv)\n"
   ]
  },
  {
   "attachments": {},
   "cell_type": "markdown",
   "metadata": {},
   "source": [
    "<font size = \"5\">\n",
    "\n",
    "Try it yourself! Check that this is indeed an inverse:\n",
    "\n",
    "$X X_{inv} = \\begin{pmatrix} 1 & 0 & 0 \\\\ 0 & 1 & 0 \\\\ 0 & 0 & 1 \\end{pmatrix}$"
   ]
  },
  {
   "cell_type": "code",
   "execution_count": null,
   "metadata": {},
   "outputs": [],
   "source": [
    "# Multiply \"X\" times \"X_inv\" using the command shown above\n",
    "# Note: Sometimes the result is shown in scientific notation.\n",
    "\n",
    "\n",
    "\n"
   ]
  }
 ],
 "metadata": {
  "kernelspec": {
   "display_name": "base",
   "language": "python",
   "name": "python3"
  },
  "language_info": {
   "codemirror_mode": {
    "name": "ipython",
    "version": 3
   },
   "file_extension": ".py",
   "mimetype": "text/x-python",
   "name": "python",
   "nbconvert_exporter": "python",
   "pygments_lexer": "ipython3",
   "version": "3.11.5"
  },
  "orig_nbformat": 4,
  "vscode": {
   "interpreter": {
    "hash": "45fc1f684f6f416f40889115beff3ddf69879b64cf4bfee48cb72a61e9d15d1a"
   }
  }
 },
 "nbformat": 4,
 "nbformat_minor": 2
}
