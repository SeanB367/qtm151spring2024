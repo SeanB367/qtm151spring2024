{
 "cells": [
  {
   "cell_type": "code",
   "execution_count": 3,
   "metadata": {},
   "outputs": [],
   "source": [
    "import pandas as pd\n",
    "\n",
    "circuits = pd.read_csv(\"data_raw/circuits.csv\")\n",
    "constructors = pd.read_csv(\"data_raw/constructors.csv\")\n",
    "drivers = pd.read_csv(\"data_raw/drivers.csv\")\n",
    "lap_times = pd.read_csv(\"data_raw/lap_times.csv\")\n",
    "results = pd.read_csv(\"data_raw/results.csv\")\n",
    "\n"
   ]
  }
 ],
 "metadata": {
  "kernelspec": {
   "display_name": "base",
   "language": "python",
   "name": "python3"
  },
  "language_info": {
   "codemirror_mode": {
    "name": "ipython",
    "version": 3
   },
   "file_extension": ".py",
   "mimetype": "text/x-python",
   "name": "python",
   "nbconvert_exporter": "python",
   "pygments_lexer": "ipython3",
   "version": "3.11.5"
  }
 },
 "nbformat": 4,
 "nbformat_minor": 2
}
